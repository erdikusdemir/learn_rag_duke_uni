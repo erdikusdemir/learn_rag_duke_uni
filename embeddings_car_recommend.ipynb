{
 "cells": [
  {
   "cell_type": "code",
   "execution_count": 23,
   "id": "d566bb99-6808-4976-8476-ed05b7941b80",
   "metadata": {},
   "outputs": [
    {
     "data": {
      "text/plain": [
       "16"
      ]
     },
     "execution_count": 23,
     "metadata": {},
     "output_type": "execute_result"
    }
   ],
   "source": [
    "import pandas as pd\n",
    "df = pd.read_csv('./cars_with_engine_and_isofix.csv')\n",
    "#df = df[df['variety'].notna()] # remove any NaN values as it blows up serialization\n",
    "data = df.to_dict('records') # Get only 700 records. More records will make it slower to index\n",
    "len(data)\n"
   ]
  },
  {
   "cell_type": "code",
   "execution_count": 24,
   "id": "6ba991da",
   "metadata": {},
   "outputs": [
    {
     "data": {
      "text/plain": [
       "[{'Brand': 'Audi',\n",
       "  'Model': 'Q7',\n",
       "  'Engine Size (L)': '3.0',\n",
       "  'Engine Type': 'Petrol',\n",
       "  'Number of ISOFIX Points': 6},\n",
       " {'Brand': 'Land Rover',\n",
       "  'Model': 'Discovery',\n",
       "  'Engine Size (L)': '3.0',\n",
       "  'Engine Type': 'Diesel',\n",
       "  'Number of ISOFIX Points': 5},\n",
       " {'Brand': 'Kia',\n",
       "  'Model': 'Sorento',\n",
       "  'Engine Size (L)': '2.5',\n",
       "  'Engine Type': 'Petrol',\n",
       "  'Number of ISOFIX Points': 4},\n",
       " {'Brand': 'DS',\n",
       "  'Model': '7',\n",
       "  'Engine Size (L)': '1.6',\n",
       "  'Engine Type': 'Petrol',\n",
       "  'Number of ISOFIX Points': 3},\n",
       " {'Brand': 'Peugeot',\n",
       "  'Model': '3008',\n",
       "  'Engine Size (L)': '1.2',\n",
       "  'Engine Type': 'Petrol',\n",
       "  'Number of ISOFIX Points': 3},\n",
       " {'Brand': 'Volkswagen',\n",
       "  'Model': 'ID4',\n",
       "  'Engine Size (L)': 'Electric',\n",
       "  'Engine Type': 'Electric',\n",
       "  'Number of ISOFIX Points': 3},\n",
       " {'Brand': 'SEAT',\n",
       "  'Model': 'Tarraco',\n",
       "  'Engine Size (L)': '1.5',\n",
       "  'Engine Type': 'Petrol',\n",
       "  'Number of ISOFIX Points': 3},\n",
       " {'Brand': 'Skoda',\n",
       "  'Model': 'Enyaq',\n",
       "  'Engine Size (L)': 'Electric',\n",
       "  'Engine Type': 'Electric',\n",
       "  'Number of ISOFIX Points': 3},\n",
       " {'Brand': 'Citroën',\n",
       "  'Model': 'Berlingo',\n",
       "  'Engine Size (L)': '1.5',\n",
       "  'Engine Type': 'Diesel',\n",
       "  'Number of ISOFIX Points': 3},\n",
       " {'Brand': 'Ford',\n",
       "  'Model': 'Galaxy',\n",
       "  'Engine Size (L)': '2.0',\n",
       "  'Engine Type': 'Diesel',\n",
       "  'Number of ISOFIX Points': 3},\n",
       " {'Brand': 'Renault',\n",
       "  'Model': 'Scenic',\n",
       "  'Engine Size (L)': '1.3',\n",
       "  'Engine Type': 'Petrol',\n",
       "  'Number of ISOFIX Points': 3},\n",
       " {'Brand': 'Hyundai',\n",
       "  'Model': 'Ioniq 5',\n",
       "  'Engine Size (L)': 'Electric',\n",
       "  'Engine Type': 'Electric',\n",
       "  'Number of ISOFIX Points': 2},\n",
       " {'Brand': 'BMW',\n",
       "  'Model': '2 Series Active Tourer',\n",
       "  'Engine Size (L)': '1.5',\n",
       "  'Engine Type': 'Petrol',\n",
       "  'Number of ISOFIX Points': 3},\n",
       " {'Brand': 'Mercedes-Benz',\n",
       "  'Model': 'GLB',\n",
       "  'Engine Size (L)': '2.0',\n",
       "  'Engine Type': 'Petrol',\n",
       "  'Number of ISOFIX Points': 3},\n",
       " {'Brand': 'Audi',\n",
       "  'Model': 'Q5',\n",
       "  'Engine Size (L)': '2.0',\n",
       "  'Engine Type': 'Petrol',\n",
       "  'Number of ISOFIX Points': 3},\n",
       " {'Brand': 'Skoda',\n",
       "  'Model': 'Fabia',\n",
       "  'Engine Size (L)': '1.0',\n",
       "  'Engine Type': 'Petrol',\n",
       "  'Number of ISOFIX Points': 3}]"
      ]
     },
     "execution_count": 24,
     "metadata": {},
     "output_type": "execute_result"
    }
   ],
   "source": [
    "data"
   ]
  },
  {
   "cell_type": "code",
   "execution_count": 25,
   "id": "af8bce2c-e123-498a-a5f2-cefffd17fc74",
   "metadata": {},
   "outputs": [],
   "source": [
    "from qdrant_client import models, QdrantClient\n",
    "from sentence_transformers import SentenceTransformer"
   ]
  },
  {
   "cell_type": "code",
   "execution_count": 26,
   "id": "2b0e4be5-7518-4458-bf47-6913ef9a72a9",
   "metadata": {},
   "outputs": [],
   "source": [
    "encoder = SentenceTransformer('all-MiniLM-L6-v2') # Model to create embeddings"
   ]
  },
  {
   "cell_type": "code",
   "execution_count": 27,
   "id": "5efa031d-b18a-4db1-9c34-9989a15c822b",
   "metadata": {},
   "outputs": [],
   "source": [
    "# create the vector database client\n",
    "qdrant = QdrantClient(\":memory:\") # Create in-memory Qdrant instance"
   ]
  },
  {
   "cell_type": "code",
   "execution_count": 28,
   "id": "6c03be93-a076-425e-8df1-5a8b6367e558",
   "metadata": {},
   "outputs": [
    {
     "name": "stderr",
     "output_type": "stream",
     "text": [
      "/tmp/ipykernel_12084/465066657.py:2: DeprecationWarning: `recreate_collection` method is deprecated and will be removed in the future. Use `collection_exists` to check collection existence and `create_collection` instead.\n",
      "  qdrant.recreate_collection(\n"
     ]
    },
    {
     "data": {
      "text/plain": [
       "True"
      ]
     },
     "execution_count": 28,
     "metadata": {},
     "output_type": "execute_result"
    }
   ],
   "source": [
    "# Create collection to store wines\n",
    "qdrant.recreate_collection(\n",
    "    collection_name=\"car_list\",\n",
    "    vectors_config=models.VectorParams(\n",
    "        size=encoder.get_sentence_embedding_dimension(), # Vector size is defined by used model\n",
    "        distance=models.Distance.COSINE\n",
    "    )\n",
    ")"
   ]
  },
  {
   "cell_type": "code",
   "execution_count": 33,
   "id": "655d08af-758f-4338-b112-cf94045c7b0d",
   "metadata": {},
   "outputs": [],
   "source": [
    "# vectorize!\n",
    "qdrant.upload_points(\n",
    "    collection_name=\"car_list\",\n",
    "    points=[\n",
    "        models.PointStruct(\n",
    "            id=idx,\n",
    "            vector=encoder.encode(doc[\"Engine Type\"]).tolist(),\n",
    "            payload=doc,\n",
    "        ) for idx, doc in enumerate(data) # data is the variable holding all the wines\n",
    "    ]\n",
    ")"
   ]
  },
  {
   "cell_type": "code",
   "execution_count": 31,
   "id": "f23bc999",
   "metadata": {},
   "outputs": [],
   "source": [
    "user_prompt = \"Suggest me an electric car?\""
   ]
  },
  {
   "cell_type": "code",
   "execution_count": 34,
   "id": "68c9bff5-db38-4a98-b542-cd173af11b53",
   "metadata": {},
   "outputs": [
    {
     "name": "stdout",
     "output_type": "stream",
     "text": [
      "{'Brand': 'Hyundai', 'Model': 'Ioniq 5', 'Engine Size (L)': 'Electric', 'Engine Type': 'Electric', 'Number of ISOFIX Points': 2} score: 0.5667376422447183\n",
      "{'Brand': 'Skoda', 'Model': 'Enyaq', 'Engine Size (L)': 'Electric', 'Engine Type': 'Electric', 'Number of ISOFIX Points': 3} score: 0.5667376422447183\n",
      "{'Brand': 'Volkswagen', 'Model': 'ID4', 'Engine Size (L)': 'Electric', 'Engine Type': 'Electric', 'Number of ISOFIX Points': 3} score: 0.5667376422447183\n"
     ]
    }
   ],
   "source": [
    "# Search time for awesome wines!\n",
    "\n",
    "hits = qdrant.search(\n",
    "    collection_name=\"car_list\",\n",
    "    query_vector=encoder.encode(user_prompt).tolist(),\n",
    "    limit=3\n",
    ")\n",
    "for hit in hits:\n",
    "  print(hit.payload, \"score:\", hit.score)"
   ]
  },
  {
   "cell_type": "code",
   "execution_count": 35,
   "id": "33243e5d-9e0d-4ec4-98e9-3fc56b8bdb10",
   "metadata": {},
   "outputs": [
    {
     "name": "stdout",
     "output_type": "stream",
     "text": [
      "[{'Brand': 'Hyundai', 'Model': 'Ioniq 5', 'Engine Size (L)': 'Electric', 'Engine Type': 'Electric', 'Number of ISOFIX Points': 2}, {'Brand': 'Skoda', 'Model': 'Enyaq', 'Engine Size (L)': 'Electric', 'Engine Type': 'Electric', 'Number of ISOFIX Points': 3}, {'Brand': 'Volkswagen', 'Model': 'ID4', 'Engine Size (L)': 'Electric', 'Engine Type': 'Electric', 'Number of ISOFIX Points': 3}]\n"
     ]
    }
   ],
   "source": [
    "# define a variable to hold the search results\n",
    "search_results = [hit.payload for hit in hits]\n",
    "print(search_results)"
   ]
  },
  {
   "cell_type": "code",
   "execution_count": 39,
   "id": "e6c2b91e",
   "metadata": {},
   "outputs": [
    {
     "name": "stdout",
     "output_type": "stream",
     "text": [
      "ChatCompletionMessage(content='\\n\\n```python\\nfrom typing import List, Dict\\nimport random\\n\\nCARS = [{\\'Brand\\': \\'Hyundai\\', \\'Model\\': \\'Ioniq 5\\', \\'Engine Size (L)\\': \\'Electric\\', \\'Engine Type\\': \\'Electric\\', \\'Number of ISOFIX Points\\': 2}, \\n {\\'Brand\\': \\'Skoda\\', \\'Model\\': \\'Enyaq\\', \\'Engine Size (L)\\': \\'Electric\\', \\'Engine Type\\': \\'Electric\\', \\'Number of ISOFIX Points\\': 3}, \\n {\\'Brand\\': \\'Volkswagen\\', \\'Model\\': \\'ID4\\', \\'Engine Size (L)\\': \\'Electric\\', \\'Engine Type\\': \\'Electric\\', \\'Number of ISOFIX Points\\': 3}]\\n\\ndef recommend_car(user: Dict[str, str]) -> List[Dict[str, str]]:\\n    \"\"\"This function takes in a dictionary user and returns recommendations for electric cars with 2 to 6 ISOfix points.\\n\\n    Parameters\\n    ----------\\n    input: A user\\'s preferences as a dictionary {Brand, Color} \\n        dict\\n\\n    Returns\\n    -------\\n    car_list : List[Dict[str, str]]\\n\\trecommended car models and their specifications.\\n\"\"\"\\n    if user[\\'Engine Type\\'] == \\'Hyundai\\':\\n        return [car for car in CARS if car[\\'Brand\\']==\\'Hyundai\\' and \\'Ioniq 5\\' in list(car.keys())] # Recommend the same recommended Hyundai for specific model \\n    elif user[\\'Engine Type\\'] == \\'Skoda\\':\\n        return [car for car in CARS if car[\\'Brand\\']==\\'Skoda\\'and \\'Enyaq\\' in list(car.keys())]\\n     else:\\n         return [random.choice(CARS) for _ in range(10)]\\n```\\n\\n\\n\\nFrom the conversation, we can infer that the user is interested in an electric car with 2 to 6 ISOfix points and either a Hyundai or a Skoda model. \\nTo narrow down further from the choices of different models provided by the Chatbot, we need more details about user\\'s preferences. Let\\'s say for instance, user prefers a 4-door car over a 5-door one. Hence, our final recommendation will include a model from Hyundai and Volkswagen that satisfies these conditions: \\n1) Is Electric \\n2) Has 4 doors \\nLet\\'s build a code to find cars satisfying these conditions (Pythonic way of doing this would be List Comprehension). But first the condition for different numbers of ISOfix points.\\n\\n\\n```python\\ndef filter_by_isofix(car: Dict[str, str]) -> bool:\\n    \"\"\" This function takes in a dictionary car and returns True if it has 4 to 6 ISOfix points \\n\\t   Else False\\n\"\"\"\\n    return isinstance(getattr(car[\\'Engine Size (L)\\'], \\'__int__\\'), int) and \\\\\\n        2 <= getattr(car[\\'Number of ISOFIX Points\\']) <= 6\\n```\\n\\n \\nNow, let\\'s use the provided list of possible cars made by the Chatbot in combination with our customized filtering function. The modified code will look as follows:\\n\\n```python\\ndef filter_model(user: Dict[str, str]) -> List[Dict[str, str]]:\\n    model = [car for car in CARS if user[\\'Brand\\'] == \\'Hyundai\\' or user[\\'Brand\\'] == \\'Skoda\\'] \\n\\n\\tfiltered_models = list(filter(lambda model: filter_by_isofix(model) and user[\\'Engine Type\\']==\\'Electric\\', model ))\\n        return filtered_models\\n```\\n\\n\\nSo, the final recommendation will be a list of car models from Hyundai or Skoda that are Electric, have 4 to 6 ISOfix Points, and match the other conditions provided by the user. The code also provides a hint to provide more flexible options for different engine types - Electric and Hybrid.\\n \\nHere is the suggested usage:\\n```python\\nfrom typing import Dict\\nimport random\\n\\n\\nCARS = [{\\'Brand\\': \\n\\'skoda\\', \\n\\'model\\': \\'Enyaq\\', \\n\\'engine size (l)\\': \\'Electric\\',\\n \\n\\n\\n', role='assistant', function_call=None, tool_calls=None)\n"
     ]
    }
   ],
   "source": [
    "# Now time to connect to the local large language model\n",
    "from openai import OpenAI\n",
    "client = OpenAI(\n",
    "    \n",
    "    #base_url=\"http://127.0.0.1:8080/v1\", # \"http://<Your api-server IP>:port\"\n",
    "    \n",
    "    api_key = \"ollama\"\n",
    ")\n",
    "completion = client.chat.completions.create(\n",
    "    model=\"phi\",\n",
    "    #model=\"llama3.2\",\n",
    "    \n",
    "    messages=[\n",
    "        {\"role\": \"system\", \"content\": \"You are chatbot. Your top priority is to recommend a car over different engine types that they are interested in. Keep the answer short and to the point.\"},\n",
    "        {\"role\": \"user\", \"content\": user_prompt},\n",
    "        {\"role\": \"assistant\", \"content\": str(search_results)}\n",
    "    ]\n",
    ")\n",
    "\n",
    "print(completion.choices[0].message)"
   ]
  }
 ],
 "metadata": {
  "kernelspec": {
   "display_name": "Python 3.12.3 ('.venv': venv)",
   "language": "python",
   "name": "python3"
  },
  "language_info": {
   "codemirror_mode": {
    "name": "ipython",
    "version": 3
   },
   "file_extension": ".py",
   "mimetype": "text/x-python",
   "name": "python",
   "nbconvert_exporter": "python",
   "pygments_lexer": "ipython3",
   "version": "3.12.3"
  },
  "vscode": {
   "interpreter": {
    "hash": "c70f5275dab6b73b960dd9f21af909fc716eb153a9b473b54aa931423ebdaf44"
   }
  }
 },
 "nbformat": 4,
 "nbformat_minor": 5
}
